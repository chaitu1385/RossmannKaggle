{
 "cells": [
  {
   "cell_type": "code",
   "execution_count": 145,
   "metadata": {
    "collapsed": true
   },
   "outputs": [],
   "source": [
    "# Import Libraries\n",
    "\n",
    "import pandas as pd\n",
    "from pandas import Series,DataFrame\n",
    "import numpy as np\n",
    "import matplotlib.pyplot as plt\n",
    "import seaborn as sns\n",
    "import os\n",
    "import pylab\n",
    "import csv\n",
    "import datetime\n",
    "import math\n",
    "import re\n",
    "import time\n",
    "import random\n",
    "\n",
    "from pandas.tseries.offsets import *\n",
    "from operator import *\n",
    "\n",
    "%matplotlib inline\n",
    "\n",
    "# machine learning\n",
    "from sklearn.ensemble import RandomForestClassifier\n",
    "from sklearn.model_selection import train_test_split\n",
    "\n",
    "# Setting up PATH to import xgboost\n",
    "mingw_path = 'C:\\\\Program Files\\\\mingw-w64\\\\x86_64-6.3.0-posix-seh-rt_v5-rev1\\\\mingw64\\\\bin'\n",
    "os.environ['PATH'] = mingw_path + ';' + os.environ['PATH']\n",
    "import xgboost as xgb\n",
    "\n"
   ]
  },
  {
   "cell_type": "code",
   "execution_count": 146,
   "metadata": {
    "collapsed": true
   },
   "outputs": [],
   "source": [
    "#Utility functions - Source: Chenglong Chen Kaggle forums\n",
    "\n",
    "def ToWeight(y):\n",
    "    w = np.zeros(y.shape, dtype=float)\n",
    "    ind = y != 0\n",
    "    w[ind] = 1./(y[ind]**2)\n",
    "    return w\n",
    "\n",
    "def rmspe(yhat, y):\n",
    "    w = ToWeight(y)\n",
    "    rmspe = np.sqrt(np.mean( w * (y - yhat)**2 ))\n",
    "    return rmspe\n",
    "\n",
    "def rmspe_xg(yhat, y):\n",
    "    # y = y.values\n",
    "    y = y.get_label()\n",
    "    y = np.exp(y) - 1\n",
    "    yhat = np.exp(yhat) - 1\n",
    "    w = ToWeight(y)\n",
    "    rmspe = np.sqrt(np.mean(w * (y - yhat)**2))\n",
    "    return \"rmspe\", rmspe"
   ]
  },
  {
   "cell_type": "code",
   "execution_count": 147,
   "metadata": {
    "collapsed": false
   },
   "outputs": [
    {
     "name": "stderr",
     "output_type": "stream",
     "text": [
      "C:\\Python3.5\\lib\\site-packages\\IPython\\core\\interactiveshell.py:2717: DtypeWarning: Columns (7) have mixed types. Specify dtype option on import or set low_memory=False.\n",
      "  interactivity=interactivity, compiler=compiler, result=result)\n"
     ]
    }
   ],
   "source": [
    "# Load train, test and store datasets\n",
    "os.chdir('C:\\\\LUML\\\\Kaggle\\\\Rossmann')\n",
    "train = pd.read_csv(\"train.csv\")\n",
    "store  = pd.read_csv(\"store.csv\")\n",
    "test   = pd.read_csv(\"test.csv\")"
   ]
  },
  {
   "cell_type": "code",
   "execution_count": 148,
   "metadata": {
    "collapsed": true
   },
   "outputs": [],
   "source": [
    "# Data Cleansing and Preprocessing\n",
    "\n",
    "# Convert Date column from object to datetime and sort train and test data based on date\n",
    "\n",
    "train['Date'] = pd.to_datetime(train['Date'])\n",
    "test['Date'] = pd.to_datetime(test['Date'])\n",
    "train = train.sort_values(by = 'Date')\n",
    "test = test.sort_values(by = 'Date')\n",
    "\n",
    "# There are few stores that are having null values in test set. Set the open column value as 1.\n",
    "test[test['Open'].isnull()]\n",
    "test['Open'] = test['Open'].fillna(1) "
   ]
  },
  {
   "cell_type": "code",
   "execution_count": 149,
   "metadata": {
    "collapsed": true
   },
   "outputs": [],
   "source": [
    "# Setting a variable to easily distinguish train (1) rom test (0) set\n",
    "train['Set'] = 1\n",
    "test['Set'] = 0"
   ]
  },
  {
   "cell_type": "code",
   "execution_count": 150,
   "metadata": {
    "collapsed": true
   },
   "outputs": [],
   "source": [
    "# Combine train and test set\n",
    "frames = [train, test]\n",
    "df = pd.concat(frames)"
   ]
  },
  {
   "cell_type": "code",
   "execution_count": 151,
   "metadata": {
    "collapsed": false
   },
   "outputs": [
    {
     "name": "stdout",
     "output_type": "stream",
     "text": [
      "<class 'pandas.core.frame.DataFrame'>\n",
      "Int64Index: 1058297 entries, 1017208 to 0\n",
      "Data columns (total 11 columns):\n",
      "Customers        1017209 non-null float64\n",
      "Date             1058297 non-null datetime64[ns]\n",
      "DayOfWeek        1058297 non-null int64\n",
      "Id               41088 non-null float64\n",
      "Open             1058297 non-null float64\n",
      "Promo            1058297 non-null int64\n",
      "Sales            1017209 non-null float64\n",
      "SchoolHoliday    1058297 non-null int64\n",
      "Set              1058297 non-null int64\n",
      "StateHoliday     1058297 non-null object\n",
      "Store            1058297 non-null int64\n",
      "dtypes: datetime64[ns](1), float64(4), int64(5), object(1)\n",
      "memory usage: 96.9+ MB\n"
     ]
    }
   ],
   "source": [
    "# Check columns information\n",
    "df.info()"
   ]
  },
  {
   "cell_type": "code",
   "execution_count": 152,
   "metadata": {
    "collapsed": true
   },
   "outputs": [],
   "source": [
    "# Initial feature set for the model\n",
    "features_x = ['Store', 'Date', 'DayOfWeek', 'Open', 'Promo', 'SchoolHoliday', 'StateHoliday']\n",
    "features_y = ['SalesLog']"
   ]
  },
  {
   "cell_type": "code",
   "execution_count": 153,
   "metadata": {
    "collapsed": true
   },
   "outputs": [],
   "source": [
    "### Remove rows where store is open, but no sales.\n",
    "df = df.loc[~((df['Open'] == 1) & (df['Sales'] == 0))]"
   ]
  },
  {
   "cell_type": "code",
   "execution_count": 154,
   "metadata": {
    "collapsed": true
   },
   "outputs": [],
   "source": [
    "# convert the sales to log(sales) in order to be not sensitive to outliers\n",
    "df.loc[df['Set'] == 1, 'SalesLog'] = np.log1p(df.loc[df['Set'] == 1]['Sales'])"
   ]
  },
  {
   "cell_type": "code",
   "execution_count": 155,
   "metadata": {
    "collapsed": true
   },
   "outputs": [],
   "source": [
    "# Label encoding\n",
    "df['StateHoliday'] = df['StateHoliday'].astype('category').cat.codes\n",
    "store['StoreType'] = store['StoreType'].astype('category').cat.codes\n",
    "store['Assortment'] = store['Assortment'].astype('category').cat.codes"
   ]
  },
  {
   "cell_type": "code",
   "execution_count": 156,
   "metadata": {
    "collapsed": false
   },
   "outputs": [],
   "source": [
    "# Create time based features - important for time series data\n",
    "\n",
    "var_name = 'Date' \n",
    "\n",
    "df[var_name + 'Day'] = pd.Index(df[var_name]).day\n",
    "df[var_name + 'Week'] = pd.Index(df[var_name]).week\n",
    "df[var_name + 'Month'] = pd.Index(df[var_name]).month\n",
    "df[var_name + 'Year'] = pd.Index(df[var_name]).year\n",
    "df[var_name + 'DayOfYear'] = pd.Index(df[var_name]).dayofyear\n",
    "\n",
    "df[var_name + 'Day'] = df[var_name + 'Day'].fillna(0)\n",
    "df[var_name + 'Week'] = df[var_name + 'Week'].fillna(0)\n",
    "df[var_name + 'Month'] = df[var_name + 'Month'].fillna(0)\n",
    "df[var_name + 'Year'] = df[var_name + 'Year'].fillna(0)\n",
    "df[var_name + 'DayOfYear'] = df[var_name + 'DayOfYear'].fillna(0)\n",
    "\n",
    "features_x.remove(var_name)\n",
    "features_x.append(var_name + 'Day')\n",
    "features_x.append(var_name + 'Week')\n",
    "features_x.append(var_name + 'Month')\n",
    "features_x.append(var_name + 'Year')\n",
    "features_x.append(var_name + 'DayOfYear')"
   ]
  },
  {
   "cell_type": "code",
   "execution_count": 157,
   "metadata": {
    "collapsed": true
   },
   "outputs": [],
   "source": [
    "# Create a new feature DateInt of type int64 from Date (datetime) column\n",
    "df['DateInt'] = df['Date'].astype(np.int64)"
   ]
  },
  {
   "cell_type": "code",
   "execution_count": 158,
   "metadata": {
    "collapsed": false
   },
   "outputs": [
    {
     "data": {
      "text/plain": [
       "Store                          int64\n",
       "StoreType                       int8\n",
       "Assortment                      int8\n",
       "CompetitionDistance          float64\n",
       "CompetitionOpenSinceMonth    float64\n",
       "CompetitionOpenSinceYear     float64\n",
       "Promo2                         int64\n",
       "Promo2SinceWeek              float64\n",
       "Promo2SinceYear              float64\n",
       "PromoInterval                 object\n",
       "dtype: object"
      ]
     },
     "execution_count": 158,
     "metadata": {},
     "output_type": "execute_result"
    }
   ],
   "source": [
    "store.dtypes"
   ]
  },
  {
   "cell_type": "code",
   "execution_count": 159,
   "metadata": {
    "collapsed": true
   },
   "outputs": [],
   "source": [
    "def convertCompetitionOpen(df):\n",
    "    try:\n",
    "        date = '{}-{}'.format(int(df['CompetitionOpenSinceYear']), int(df['CompetitionOpenSinceMonth']))\n",
    "        return pd.to_datetime(date)\n",
    "    except:\n",
    "        return np.nan\n",
    "\n",
    "store['CompetitionOpenInt'] = store.apply(lambda df: convertCompetitionOpen(df), axis=1).astype(np.int64)"
   ]
  },
  {
   "cell_type": "code",
   "execution_count": 160,
   "metadata": {
    "collapsed": false
   },
   "outputs": [
    {
     "data": {
      "text/plain": [
       "Store                          int64\n",
       "StoreType                       int8\n",
       "Assortment                      int8\n",
       "CompetitionDistance          float64\n",
       "CompetitionOpenSinceMonth    float64\n",
       "CompetitionOpenSinceYear     float64\n",
       "Promo2                         int64\n",
       "Promo2SinceWeek              float64\n",
       "Promo2SinceYear              float64\n",
       "PromoInterval                 object\n",
       "CompetitionOpenInt             int64\n",
       "dtype: object"
      ]
     },
     "execution_count": 160,
     "metadata": {},
     "output_type": "execute_result"
    }
   ],
   "source": [
    "store.dtypes"
   ]
  },
  {
   "cell_type": "code",
   "execution_count": 161,
   "metadata": {
    "collapsed": true
   },
   "outputs": [],
   "source": [
    "def convertPromo2(df):\n",
    "    try:\n",
    "        date = '{}{}1'.format(int(df['Promo2SinceYear']), int(df['Promo2SinceWeek']))\n",
    "        return pd.to_datetime(date, format='%Y%W%w')\n",
    "    except:\n",
    "        return np.nan\n",
    "\n",
    "store['Promo2SinceFloat'] = store.apply(lambda df: convertPromo2(df), axis=1).astype(np.int64)"
   ]
  },
  {
   "cell_type": "code",
   "execution_count": 162,
   "metadata": {
    "collapsed": false
   },
   "outputs": [
    {
     "data": {
      "text/plain": [
       "Store                          int64\n",
       "StoreType                       int8\n",
       "Assortment                      int8\n",
       "CompetitionDistance          float64\n",
       "CompetitionOpenSinceMonth    float64\n",
       "CompetitionOpenSinceYear     float64\n",
       "Promo2                         int64\n",
       "Promo2SinceWeek              float64\n",
       "Promo2SinceYear              float64\n",
       "PromoInterval                 object\n",
       "CompetitionOpenInt             int64\n",
       "Promo2SinceFloat               int64\n",
       "dtype: object"
      ]
     },
     "execution_count": 162,
     "metadata": {},
     "output_type": "execute_result"
    }
   ],
   "source": [
    "store.dtypes"
   ]
  },
  {
   "cell_type": "code",
   "execution_count": 163,
   "metadata": {
    "collapsed": true
   },
   "outputs": [],
   "source": [
    "s = store['PromoInterval'].str.split(',').apply(pd.Series, 1)\n",
    "s.columns = ['PromoInterval0', 'PromoInterval1', 'PromoInterval2', 'PromoInterval3']\n",
    "store = store.join(s)"
   ]
  },
  {
   "cell_type": "code",
   "execution_count": 164,
   "metadata": {
    "collapsed": true
   },
   "outputs": [],
   "source": [
    "def monthToNum(date):\n",
    "    return{\n",
    "            'Jan' : 1,\n",
    "            'Feb' : 2,\n",
    "            'Mar' : 3,\n",
    "            'Apr' : 4,\n",
    "            'May' : 5,\n",
    "            'Jun' : 6,\n",
    "            'Jul' : 7,\n",
    "            'Aug' : 8,\n",
    "            'Sept' : 9, \n",
    "            'Oct' : 10,\n",
    "            'Nov' : 11,\n",
    "            'Dec' : 12\n",
    "    }[date]\n",
    "\n",
    "store['PromoInterval0'] = store['PromoInterval0'].map(lambda x: monthToNum(x) if str(x) != 'nan' else np.nan)\n",
    "store['PromoInterval1'] = store['PromoInterval1'].map(lambda x: monthToNum(x) if str(x) != 'nan' else np.nan)\n",
    "store['PromoInterval2'] = store['PromoInterval2'].map(lambda x: monthToNum(x) if str(x) != 'nan' else np.nan)\n",
    "store['PromoInterval3'] = store['PromoInterval3'].map(lambda x: monthToNum(x) if str(x) != 'nan' else np.nan)\n",
    "del store['PromoInterval']"
   ]
  },
  {
   "cell_type": "code",
   "execution_count": 165,
   "metadata": {
    "collapsed": false
   },
   "outputs": [
    {
     "data": {
      "text/plain": [
       "Store                          int64\n",
       "StoreType                       int8\n",
       "Assortment                      int8\n",
       "CompetitionDistance          float64\n",
       "CompetitionOpenSinceMonth    float64\n",
       "CompetitionOpenSinceYear     float64\n",
       "Promo2                         int64\n",
       "Promo2SinceWeek              float64\n",
       "Promo2SinceYear              float64\n",
       "CompetitionOpenInt             int64\n",
       "Promo2SinceFloat               int64\n",
       "PromoInterval0               float64\n",
       "PromoInterval1               float64\n",
       "PromoInterval2               float64\n",
       "PromoInterval3               float64\n",
       "dtype: object"
      ]
     },
     "execution_count": 165,
     "metadata": {},
     "output_type": "execute_result"
    }
   ],
   "source": [
    "store.dtypes"
   ]
  },
  {
   "cell_type": "code",
   "execution_count": 166,
   "metadata": {
    "collapsed": true
   },
   "outputs": [],
   "source": [
    "store_features = ['Store', 'StoreType', 'Assortment', \n",
    "                  'CompetitionDistance', 'CompetitionOpenInt',\n",
    "                  'PromoInterval0']\n",
    "\n",
    "features_x = list(set(features_x + store_features))"
   ]
  },
  {
   "cell_type": "code",
   "execution_count": 167,
   "metadata": {
    "collapsed": true
   },
   "outputs": [],
   "source": [
    "df = pd.merge(df, store[store_features], how='left', on=['Store'])"
   ]
  },
  {
   "cell_type": "code",
   "execution_count": 168,
   "metadata": {
    "collapsed": true
   },
   "outputs": [],
   "source": [
    "# Convert every NAN to -1\n",
    "for feature in features_x:\n",
    "    df[feature] = df[feature].fillna(-1)"
   ]
  },
  {
   "cell_type": "code",
   "execution_count": 169,
   "metadata": {
    "collapsed": false
   },
   "outputs": [],
   "source": [
    "# split the train data into train and test sets\n",
    "seed = 50\n",
    "X_train, X_test, y_train, y_test = train_test_split(df.loc[(df['Set'] == 1) & (df['Open'] == 1) ][features_x],\n",
    "                                                    df.loc[(df['Set'] == 1) & (df['Open'] == 1) ][features_y],\n",
    "                                                    test_size=0.2, random_state=seed)"
   ]
  },
  {
   "cell_type": "code",
   "execution_count": 170,
   "metadata": {
    "collapsed": true
   },
   "outputs": [],
   "source": [
    "dtrain = xgb.DMatrix(X_train, y_train)\n",
    "dtest = xgb.DMatrix(X_test, y_test)"
   ]
  },
  {
   "cell_type": "code",
   "execution_count": 171,
   "metadata": {
    "collapsed": true
   },
   "outputs": [],
   "source": [
    "num_round = 1000\n",
    "evallist = [(dtrain, 'train'), (dtest, 'test')]"
   ]
  },
  {
   "cell_type": "code",
   "execution_count": 172,
   "metadata": {
    "collapsed": false
   },
   "outputs": [
    {
     "name": "stdout",
     "output_type": "stream",
     "text": [
      "[0]\ttrain-rmse:5.7949\ttest-rmse:5.79425\ttrain-rmspe:0.996814\ttest-rmspe:0.996811\n",
      "Multiple eval metrics have been passed: 'test-rmspe' will be used for early stopping.\n",
      "\n",
      "Will train until test-rmspe hasn't improved in 250 rounds.\n",
      "[250]\ttrain-rmse:0.123445\ttest-rmse:0.125704\ttrain-rmspe:0.155917\ttest-rmspe:0.290278\n",
      "[500]\ttrain-rmse:0.104828\ttest-rmse:0.108709\ttrain-rmspe:0.131091\ttest-rmspe:0.280574\n",
      "Stopping. Best iteration:\n",
      "[454]\ttrain-rmse:0.106602\ttest-rmse:0.110231\ttrain-rmspe:0.133504\ttest-rmspe:0.278412\n",
      "\n"
     ]
    }
   ],
   "source": [
    "param = {'bst:max_depth':12,\n",
    "         'bst:eta':0.01,\n",
    "         'subsample':0.8,\n",
    "         'colsample_bytree':0.7,\n",
    "         'silent':1,\n",
    "         'objective':'reg:linear',\n",
    "         'nthread':6,\n",
    "         'seed':seed}\n",
    "\n",
    "plst = param.items()\n",
    "\n",
    "bst = xgb.train(plst, dtrain, num_round, evallist, feval=rmspe_xg, verbose_eval=250, early_stopping_rounds=250)"
   ]
  },
  {
   "cell_type": "code",
   "execution_count": 173,
   "metadata": {
    "collapsed": true
   },
   "outputs": [],
   "source": [
    "X_submit = df.loc[df['Set'] == 0]\n",
    "dsubmit = xgb.DMatrix(X_submit[features_x])"
   ]
  },
  {
   "cell_type": "code",
   "execution_count": 174,
   "metadata": {
    "collapsed": false
   },
   "outputs": [],
   "source": [
    "ypred_bst = bst.predict(dsubmit)\n",
    "\n",
    "df_ypred = X_submit['Id'].reset_index()\n",
    "del df_ypred['index']\n",
    "df_ypred['Id'] = df_ypred['Id'].astype('int')\n",
    "\n",
    "df_ypred['Sales'] = (np.exp(ypred_bst) - 1)\n",
    "\n",
    "df_ypred.sort_values('Id', inplace=True)\n",
    "df_ypred[['Id', 'Sales']].to_csv('rossmann_submission.csv', index=False)"
   ]
  },
  {
   "cell_type": "code",
   "execution_count": 176,
   "metadata": {
    "collapsed": false
   },
   "outputs": [
    {
     "data": {
      "text/plain": [
       "<matplotlib.axes._subplots.AxesSubplot at 0x2db9820d7f0>"
      ]
     },
     "execution_count": 176,
     "metadata": {},
     "output_type": "execute_result"
    },
    {
     "data": {
      "image/png": "[encoded data removed]",
      "text/plain": [
       "<matplotlib.figure.Figure at 0x2db98191e48>"
      ]
     },
     "metadata": {},
     "output_type": "display_data"
    }
   ],
   "source": [
    "# Feature importance plot from XGBoost\n",
    "xgb.plot_importance(bst)"
   ]
  },
  {
   "cell_type": "code",
   "execution_count": null,
   "metadata": {
    "collapsed": true
   },
   "outputs": [],
   "source": []
  }
 ],
 "metadata": {
  "kernelspec": {
   "display_name": "Python 3",
   "language": "python",
   "name": "python3"
  },
  "language_info": {
   "codemirror_mode": {
    "name": "ipython",
    "version": 3
   },
   "file_extension": ".py",
   "mimetype": "text/x-python",
   "name": "python",
   "nbconvert_exporter": "python",
   "pygments_lexer": "ipython3",
   "version": "3.5.2"
  }
 },
 "nbformat": 4,
 "nbformat_minor": 2
}
