{
 "cells": [
  {
   "cell_type": "markdown",
   "metadata": {},
   "source": [
    "# XML example and exercise\n",
    "****\n",
    "+ study examples of accessing nodes in XML tree structure  \n",
    "+ work on exercise to be completed and submitted\n",
    "****\n",
    "+ reference: https://docs.python.org/2.7/library/xml.etree.elementtree.html\n",
    "+ data source: http://www.dbis.informatik.uni-goettingen.de/Mondial\n",
    "****"
   ]
  },
  {
   "cell_type": "code",
   "execution_count": 104,
   "metadata": {
    "collapsed": true
   },
   "outputs": [],
   "source": [
    "from xml.etree import ElementTree as ET\n",
    "import pandas as pd\n",
    "import numpy as np"
   ]
  },
  {
   "cell_type": "markdown",
   "metadata": {},
   "source": [
    "## XML example\n",
    "\n",
    "+ for details about tree traversal and iterators, see https://docs.python.org/2.7/library/xml.etree.elementtree.html"
   ]
  },
  {
   "cell_type": "code",
   "execution_count": 105,
   "metadata": {
    "collapsed": false
   },
   "outputs": [],
   "source": [
    "document_tree = ET.parse( './data/mondial_database_less.xml' )\n"
   ]
  },
  {
   "cell_type": "code",
   "execution_count": 106,
   "metadata": {
    "collapsed": false
   },
   "outputs": [
    {
     "name": "stdout",
     "output_type": "stream",
     "text": [
      "Albania\n",
      "Greece\n",
      "Macedonia\n",
      "Serbia\n",
      "Montenegro\n",
      "Kosovo\n",
      "Andorra\n"
     ]
    }
   ],
   "source": [
    "# print names of all countries\n",
    "for child in document_tree.getroot():\n",
    "    print child.find('name').text"
   ]
  },
  {
   "cell_type": "code",
   "execution_count": 107,
   "metadata": {
    "collapsed": false
   },
   "outputs": [
    {
     "name": "stdout",
     "output_type": "stream",
     "text": [
      "* Albania: Tirana, Shkodër, Durrës, Vlorë, Elbasan, Korçë\n",
      "* Greece: Komotini, Kavala, Athina, Peiraias, Peristeri, Acharnes, Patra, Kozani, Kerkyra, Ioannina, Thessaloniki, Iraklio, Chania, Ermoupoli, Rhodes, Tripoli, Lamia, Chalkida, Larissa, Volos, Mytilini, Karyes\n",
      "* Macedonia: Skopje, Kumanovo\n",
      "* Serbia: Beograd, Novi Sad, Niš\n",
      "* Montenegro: Podgorica\n",
      "* Kosovo: Prishtine\n",
      "* Andorra: Andorra la Vella\n"
     ]
    }
   ],
   "source": [
    "# print names of all countries and their cities\n",
    "for element in document_tree.iterfind('country'):\n",
    "    print '* ' + element.find('name').text + ':',\n",
    "    capitals_string = ''\n",
    "    for subelement in element.getiterator('city'):\n",
    "        capitals_string += subelement.find('name').text + ', '\n",
    "    print capitals_string[:-2]"
   ]
  },
  {
   "cell_type": "markdown",
   "metadata": {},
   "source": [
    "****\n",
    "## XML exercise\n",
    "\n",
    "Using data in 'data/mondial_database.xml', the examples above, and refering to https://docs.python.org/2.7/library/xml.etree.elementtree.html, find\n",
    "\n",
    "1. 10 countries with the lowest infant mortality rates\n",
    "2. 10 cities with the largest population\n",
    "3. 10 ethnic groups with the largest overall populations (sum of best/latest estimates over all countries)\n",
    "4. name and country of a) longest river, b) largest lake and c) airport at highest elevation"
   ]
  },
  {
   "cell_type": "code",
   "execution_count": 154,
   "metadata": {
    "collapsed": false
   },
   "outputs": [
    {
     "data": {
      "text/plain": [
       "xml.etree.ElementTree.ElementTree"
      ]
     },
     "execution_count": 154,
     "metadata": {},
     "output_type": "execute_result"
    }
   ],
   "source": [
    "document = ET.parse( './data/mondial_database.xml' )\n",
    "type(document)"
   ]
  },
  {
   "cell_type": "code",
   "execution_count": 249,
   "metadata": {
    "collapsed": false
   },
   "outputs": [
    {
     "name": "stdout",
     "output_type": "stream",
     "text": [
      "Albania 13.19\n",
      "Greece 4.78\n",
      "Macedonia 7.9\n",
      "Serbia 6.16\n",
      "Andorra 3.69\n",
      "France 3.31\n",
      "Spain 3.33\n",
      "Austria 4.16\n",
      "Czech Republic 2.63\n",
      "Germany 3.46\n",
      "Hungary 5.09\n",
      "Italy 3.31\n",
      "Liechtenstein 4.33\n",
      "Slovakia 5.35\n",
      "Slovenia 4.04\n",
      "Switzerland 3.73\n",
      "Belarus 3.64\n",
      "Latvia 7.91\n",
      "Lithuania 6.0\n",
      "Poland 6.19\n",
      "Ukraine 8.1\n",
      "Russia 7.08\n",
      "Belgium 4.18\n",
      "Luxembourg 4.28\n",
      "Netherlands 3.66\n",
      "Bosnia and Herzegovina 5.84\n",
      "Croatia 5.87\n",
      "Bulgaria 15.08\n",
      "Romania 10.16\n",
      "Turkey 21.43\n",
      "Denmark 4.1\n",
      "Estonia 6.7\n",
      "Faroe Islands 5.71\n",
      "Finland 3.36\n",
      "Norway 2.48\n",
      "Sweden 2.6\n",
      "Monaco 1.81\n",
      "Gibraltar 6.29\n",
      "Guernsey 3.47\n",
      "Iceland 3.15\n",
      "Ireland 3.74\n",
      "San Marino 4.52\n",
      "Jersey 3.86\n",
      "Malta 3.59\n",
      "Isle of Man 4.17\n",
      "Moldova 12.93\n",
      "Portugal 4.48\n",
      "United Kingdom 4.44\n",
      "Afghanistan 117.23\n",
      "China 14.79\n",
      "Iran 39.0\n",
      "Pakistan 57.48\n",
      "Tajikistan 35.03\n",
      "Turkmenistan 38.13\n",
      "Uzbekistan 19.84\n",
      "Armenia 13.97\n",
      "Georgia 16.68\n",
      "Azerbaijan 26.67\n",
      "Bahrain 9.68\n",
      "Bangladesh 45.67\n",
      "Myanmar 44.91\n",
      "India 43.19\n",
      "Bhutan 37.89\n",
      "Brunei 10.48\n",
      "Malaysia 13.69\n",
      "Laos 54.53\n",
      "Thailand 9.86\n",
      "Cambodia 51.36\n",
      "Vietnam 18.99\n",
      "Kazakhstan 21.61\n",
      "North Korea 24.5\n",
      "Kyrgyzstan 28.71\n",
      "Hong Kong 2.73\n",
      "Macao 3.13\n",
      "Mongolia 23.15\n",
      "Nepal 40.43\n",
      "Cyprus 8.54\n",
      "Gaza Strip 30.6\n",
      "Israel 3.98\n",
      "Egypt 22.41\n",
      "Indonesia 25.16\n",
      "Timor-Leste 38.79\n",
      "Papua New Guinea 39.67\n",
      "Iraq 37.53\n",
      "Jordan 15.73\n",
      "Kuwait 7.51\n",
      "Saudi Arabia 14.58\n",
      "Syria 15.79\n",
      "Lebanon 7.98\n",
      "West Bank 28.6\n",
      "Japan 2.13\n",
      "South Korea 3.93\n",
      "Maldives 24.59\n",
      "Oman 14.0\n",
      "United Arab Emirates 10.92\n",
      "Yemen 50.41\n",
      "Philippines 17.64\n",
      "Qatar 6.42\n",
      "Singapore 2.53\n",
      "Sri Lanka 9.02\n",
      "Taiwan 4.49\n",
      "Anguilla 3.4\n",
      "Antigua and Barbuda 13.29\n",
      "Aruba 11.74\n",
      "Bahamas 12.5\n",
      "Barbados 10.93\n",
      "Belize 20.31\n",
      "Guatemala 23.51\n",
      "Mexico 12.58\n",
      "Bermuda 2.48\n",
      "British Virgin Islands 13.45\n",
      "Canada 4.71\n",
      "United States 6.17\n",
      "Cayman Islands 6.21\n",
      "Costa Rica 8.7\n",
      "Nicaragua 20.36\n",
      "Panama 10.7\n",
      "Cuba 4.7\n",
      "Dominica 11.61\n",
      "Dominican Republic 19.63\n",
      "Haiti 49.43\n",
      "El Salvador 18.44\n",
      "Honduras 18.72\n",
      "Greenland 9.42\n",
      "Grenada 10.5\n",
      "Guadeloupe 8.3\n",
      "Jamaica 13.69\n",
      "Martinique 7.1\n",
      "Montserrat 13.66\n",
      "Sint Maarten 9.05\n",
      "Colombia 15.02\n",
      "Puerto Rico 7.73\n",
      "Saint Kitts and Nevis 8.98\n",
      "Saint Lucia 11.75\n",
      "Saint Pierre and Miquelon 6.95\n",
      "Saint Vincent and the Grenadines 13.07\n",
      "Trinidad and Tobago 24.82\n",
      "Turks and Caicos Islands 10.97\n",
      "Virgin Islands 6.79\n",
      "American Samoa 8.92\n",
      "Australia 4.43\n",
      "Cook Islands 14.33\n",
      "Fiji 10.2\n",
      "French Polynesia 4.78\n",
      "Guam 5.51\n",
      "Kiribati 35.37\n",
      "Marshall Islands 21.39\n",
      "Micronesia 21.93\n",
      "Nauru 8.21\n",
      "New Caledonia 5.46\n",
      "New Zealand 4.59\n",
      "Northern Mariana Islands 5.5\n",
      "Palau 11.46\n",
      "Solomon Islands 16.17\n",
      "Tonga 12.36\n",
      "Tuvalu 31.69\n",
      "Vanuatu 16.41\n",
      "Wallis and Futuna 4.49\n",
      "Samoa 20.5\n",
      "Argentina 9.96\n",
      "Bolivia 38.61\n",
      "Brazil 19.21\n",
      "Chile 7.02\n",
      "Paraguay 20.75\n",
      "Uruguay 8.97\n",
      "Peru 20.21\n",
      "French Guiana 14.6\n",
      "Guyana 33.56\n",
      "Suriname 27.07\n",
      "Venezuela 19.33\n",
      "Ecuador 17.93\n",
      "Algeria 21.76\n",
      "Libya 11.87\n",
      "Mali 104.34\n",
      "Mauritania 56.06\n",
      "Morocco 24.52\n",
      "Niger 86.27\n",
      "Tunisia 23.19\n",
      "Western Sahara 145.82\n",
      "Angola 79.99\n",
      "Congo 59.34\n",
      "Namibia 45.64\n",
      "Zaire 73.15\n",
      "Zambia 66.62\n",
      "Benin 57.09\n",
      "Burkina Faso 76.8\n",
      "Nigeria 74.09\n",
      "Togo 46.73\n",
      "Botswana 9.38\n",
      "South Africa 41.61\n",
      "Zimbabwe 26.55\n",
      "Cote dIvoire 60.16\n",
      "Ghana 38.52\n",
      "Burundi 63.44\n",
      "Rwanda 59.59\n",
      "Tanzania 43.74\n",
      "Cameroon 55.1\n",
      "Central African Republic 92.86\n",
      "Chad 90.3\n",
      "Equatorial Guinea 71.12\n",
      "Gabon 47.03\n",
      "Cape Verde 24.28\n",
      "Sudan 52.86\n",
      "South Sudan 68.16\n",
      "Comoros 65.31\n",
      "Guinea 55.24\n",
      "Liberia 69.19\n",
      "Djibouti 50.2\n",
      "Eritrea 38.44\n",
      "Ethiopia 55.77\n",
      "Somalia 100.14\n",
      "Kenya 40.71\n",
      "Gambia 65.74\n",
      "Senegal 52.72\n",
      "Guinea-Bissau 90.92\n",
      "Sierra Leone 73.29\n",
      "Uganda 60.82\n",
      "Lesotho 50.48\n",
      "Madagascar 44.88\n",
      "Malawi 48.01\n",
      "Mozambique 72.42\n",
      "Mauritius 10.59\n",
      "Mayotte 56.29\n",
      "Swaziland 54.82\n",
      "Reunion 7.5\n",
      "Saint Helena 17.63\n",
      "Sao Tome and Principe 49.16\n",
      "Seychelles 10.77\n"
     ]
    }
   ],
   "source": [
    "\n",
    "for country in document.iterfind('country'):\n",
    "    mortality = country.find('infant_mortality')\n",
    "    if mortality is not None:\n",
    "        print country.find('name').text, float(mortality.text)\n"
   ]
  },
  {
   "cell_type": "markdown",
   "metadata": {},
   "source": [
    "# 10 countries with the lowest infant mortality rates"
   ]
  },
  {
   "cell_type": "code",
   "execution_count": 255,
   "metadata": {
    "collapsed": false
   },
   "outputs": [
    {
     "data": {
      "text/html": [
       "<div>\n",
       "<table border=\"1\" class=\"dataframe\">\n",
       "  <thead>\n",
       "    <tr style=\"text-align: right;\">\n",
       "      <th></th>\n",
       "      <th>name</th>\n",
       "      <th>infant_mortality</th>\n",
       "    </tr>\n",
       "  </thead>\n",
       "  <tbody>\n",
       "    <tr>\n",
       "      <th>35</th>\n",
       "      <td>Monaco</td>\n",
       "      <td>1.81</td>\n",
       "    </tr>\n",
       "    <tr>\n",
       "      <th>210</th>\n",
       "      <td>Japan</td>\n",
       "      <td>2.13</td>\n",
       "    </tr>\n",
       "    <tr>\n",
       "      <th>73</th>\n",
       "      <td>Norway</td>\n",
       "      <td>2.48</td>\n",
       "    </tr>\n",
       "    <tr>\n",
       "      <th>66</th>\n",
       "      <td>Bermuda</td>\n",
       "      <td>2.48</td>\n",
       "    </tr>\n",
       "    <tr>\n",
       "      <th>78</th>\n",
       "      <td>Singapore</td>\n",
       "      <td>2.53</td>\n",
       "    </tr>\n",
       "    <tr>\n",
       "      <th>108</th>\n",
       "      <td>Sweden</td>\n",
       "      <td>2.60</td>\n",
       "    </tr>\n",
       "    <tr>\n",
       "      <th>57</th>\n",
       "      <td>Czech Republic</td>\n",
       "      <td>2.63</td>\n",
       "    </tr>\n",
       "    <tr>\n",
       "      <th>145</th>\n",
       "      <td>Hong Kong</td>\n",
       "      <td>2.73</td>\n",
       "    </tr>\n",
       "    <tr>\n",
       "      <th>54</th>\n",
       "      <td>Macao</td>\n",
       "      <td>3.13</td>\n",
       "    </tr>\n",
       "    <tr>\n",
       "      <th>188</th>\n",
       "      <td>Iceland</td>\n",
       "      <td>3.15</td>\n",
       "    </tr>\n",
       "  </tbody>\n",
       "</table>\n",
       "</div>"
      ],
      "text/plain": [
       "               name  infant_mortality\n",
       "35           Monaco              1.81\n",
       "210           Japan              2.13\n",
       "73           Norway              2.48\n",
       "66          Bermuda              2.48\n",
       "78        Singapore              2.53\n",
       "108          Sweden              2.60\n",
       "57   Czech Republic              2.63\n",
       "145       Hong Kong              2.73\n",
       "54            Macao              3.13\n",
       "188         Iceland              3.15"
      ]
     },
     "execution_count": 255,
     "metadata": {},
     "output_type": "execute_result"
    }
   ],
   "source": [
    "\n",
    "mortality_dict  = {}\n",
    "for country in document.iterfind('country'):\n",
    "    mortality = country.find('infant_mortality')\n",
    "    if mortality is not None:\n",
    "        mortality_dict[country.find('name').text] = float(mortality.text)\n",
    "mortality = pd.DataFrame(mortality_dict.items(), columns=['name', 'infant_mortality'])\n",
    "mortality.sort_values(by = 'infant_mortality').head(10)"
   ]
  },
  {
   "cell_type": "markdown",
   "metadata": {},
   "source": [
    "# 10 cities with the largest population"
   ]
  },
  {
   "cell_type": "code",
   "execution_count": 256,
   "metadata": {
    "collapsed": false
   },
   "outputs": [
    {
     "data": {
      "text/html": [
       "<div>\n",
       "<table border=\"1\" class=\"dataframe\">\n",
       "  <thead>\n",
       "    <tr style=\"text-align: right;\">\n",
       "      <th></th>\n",
       "      <th>name</th>\n",
       "      <th>population</th>\n",
       "    </tr>\n",
       "  </thead>\n",
       "  <tbody>\n",
       "    <tr>\n",
       "      <th>529</th>\n",
       "      <td>Mumbai</td>\n",
       "      <td>12442373</td>\n",
       "    </tr>\n",
       "    <tr>\n",
       "      <th>554</th>\n",
       "      <td>Delhi</td>\n",
       "      <td>11034555</td>\n",
       "    </tr>\n",
       "    <tr>\n",
       "      <th>523</th>\n",
       "      <td>Bangalore</td>\n",
       "      <td>8443675</td>\n",
       "    </tr>\n",
       "    <tr>\n",
       "      <th>418</th>\n",
       "      <td>London</td>\n",
       "      <td>8250205</td>\n",
       "    </tr>\n",
       "    <tr>\n",
       "      <th>487</th>\n",
       "      <td>Tehran</td>\n",
       "      <td>8154051</td>\n",
       "    </tr>\n",
       "    <tr>\n",
       "      <th>505</th>\n",
       "      <td>Dhaka</td>\n",
       "      <td>7423137</td>\n",
       "    </tr>\n",
       "    <tr>\n",
       "      <th>558</th>\n",
       "      <td>Hyderabad</td>\n",
       "      <td>6731790</td>\n",
       "    </tr>\n",
       "    <tr>\n",
       "      <th>518</th>\n",
       "      <td>Ahmadabad</td>\n",
       "      <td>5577940</td>\n",
       "    </tr>\n",
       "    <tr>\n",
       "      <th>627</th>\n",
       "      <td>Luanda</td>\n",
       "      <td>5000000</td>\n",
       "    </tr>\n",
       "    <tr>\n",
       "      <th>542</th>\n",
       "      <td>Chennai</td>\n",
       "      <td>4646732</td>\n",
       "    </tr>\n",
       "  </tbody>\n",
       "</table>\n",
       "</div>"
      ],
      "text/plain": [
       "          name  population\n",
       "529     Mumbai    12442373\n",
       "554      Delhi    11034555\n",
       "523  Bangalore     8443675\n",
       "418     London     8250205\n",
       "487     Tehran     8154051\n",
       "505      Dhaka     7423137\n",
       "558  Hyderabad     6731790\n",
       "518  Ahmadabad     5577940\n",
       "627     Luanda     5000000\n",
       "542    Chennai     4646732"
      ]
     },
     "execution_count": 256,
     "metadata": {},
     "output_type": "execute_result"
    }
   ],
   "source": [
    "\n",
    "city_population = []\n",
    "for city in document.findall('.//city'):\n",
    "    name = city.find('name')\n",
    "    if  name is None:\n",
    "        name = np.nan\n",
    "    else:\n",
    "        name = name.text\n",
    "    population = city.find('population[@year=\"2011\"]') \n",
    "    if population is None:\n",
    "        population = np.nan\n",
    "    else:\n",
    "        population = int(population.text)\n",
    "        city_population.append([name, population])\n",
    "        \n",
    "df = pd.DataFrame(city_population, columns=['name', 'population'])\n",
    "df.sort_values('population', ascending=False).head(10)\n"
   ]
  },
  {
   "cell_type": "markdown",
   "metadata": {},
   "source": [
    "# 10 ethnic groups with the largest overall populations (sum of best/latest estimates over all countries)"
   ]
  },
  {
   "cell_type": "code",
   "execution_count": 277,
   "metadata": {
    "collapsed": false
   },
   "outputs": [
    {
     "data": {
      "text/html": [
       "<div>\n",
       "<table border=\"1\" class=\"dataframe\">\n",
       "  <thead>\n",
       "    <tr style=\"text-align: right;\">\n",
       "      <th></th>\n",
       "      <th>0</th>\n",
       "    </tr>\n",
       "  </thead>\n",
       "  <tbody>\n",
       "    <tr>\n",
       "      <th>Han Chinese</th>\n",
       "      <td>1,245,058,800.00</td>\n",
       "    </tr>\n",
       "    <tr>\n",
       "      <th>Indo-Aryan</th>\n",
       "      <td>871,815,583.44</td>\n",
       "    </tr>\n",
       "    <tr>\n",
       "      <th>European</th>\n",
       "      <td>494,872,219.72</td>\n",
       "    </tr>\n",
       "    <tr>\n",
       "      <th>African</th>\n",
       "      <td>318,325,120.37</td>\n",
       "    </tr>\n",
       "    <tr>\n",
       "      <th>Dravidian</th>\n",
       "      <td>302,713,744.25</td>\n",
       "    </tr>\n",
       "    <tr>\n",
       "      <th>Mestizo</th>\n",
       "      <td>157,734,354.94</td>\n",
       "    </tr>\n",
       "    <tr>\n",
       "      <th>Bengali</th>\n",
       "      <td>146,776,916.72</td>\n",
       "    </tr>\n",
       "    <tr>\n",
       "      <th>Russian</th>\n",
       "      <td>131,856,996.08</td>\n",
       "    </tr>\n",
       "    <tr>\n",
       "      <th>Japanese</th>\n",
       "      <td>126,534,212.00</td>\n",
       "    </tr>\n",
       "    <tr>\n",
       "      <th>Malay</th>\n",
       "      <td>121,993,550.37</td>\n",
       "    </tr>\n",
       "  </tbody>\n",
       "</table>\n",
       "</div>"
      ],
      "text/plain": [
       "                               0\n",
       "Han Chinese     1,245,058,800.00\n",
       "Indo-Aryan        871,815,583.44\n",
       "European          494,872,219.72\n",
       "African           318,325,120.37\n",
       "Dravidian         302,713,744.25\n",
       "Mestizo           157,734,354.94\n",
       "Bengali           146,776,916.72\n",
       "Russian           131,856,996.08\n",
       "Japanese          126,534,212.00\n",
       "Malay             121,993,550.37"
      ]
     },
     "execution_count": 277,
     "metadata": {},
     "output_type": "execute_result"
    }
   ],
   "source": [
    "\n",
    "ethnicgroup_pop = {}\n",
    "\n",
    "for country in document.iterfind('country'):\n",
    "    population_percentage = []\n",
    "    \n",
    "    for population in country.findall('population'):\n",
    "        population_percentage.append((int(population.get('year')), int(population.text)))\n",
    "    max_population_percentage = max(population_percentage)[1]\n",
    "    \n",
    "    for ethnicgroup in country.findall('ethnicgroup'):\n",
    "        population_ethnic_group = (float(ethnicgroup.get('percentage')) * max_population_percentage / 100)\n",
    "        ethnicgroup_pop[ethnicgroup.text] =  ethnicgroup_pop.setdefault(ethnicgroup.text, 0) + population_ethnic_group\n",
    "# did not understand why adding default is giving the correct results. Check with mentor        \n",
    "ethnic_population = pd.DataFrame.from_dict(ethnicgroup_pop, orient='index')\n",
    "ethnic_population.sort_values([0],ascending=False).head(10)\n"
   ]
  },
  {
   "cell_type": "markdown",
   "metadata": {},
   "source": [
    "# name and country of a) longest river, b) largest lake and c) airport at highest elevation"
   ]
  },
  {
   "cell_type": "code",
   "execution_count": 290,
   "metadata": {
    "collapsed": false
   },
   "outputs": [
    {
     "data": {
      "text/html": [
       "<div>\n",
       "<table border=\"1\" class=\"dataframe\">\n",
       "  <thead>\n",
       "    <tr style=\"text-align: right;\">\n",
       "      <th></th>\n",
       "      <th>298</th>\n",
       "    </tr>\n",
       "  </thead>\n",
       "  <tbody>\n",
       "    <tr>\n",
       "      <th>name</th>\n",
       "      <td>Amazonas</td>\n",
       "    </tr>\n",
       "    <tr>\n",
       "      <th>length</th>\n",
       "      <td>6,448.00</td>\n",
       "    </tr>\n",
       "    <tr>\n",
       "      <th>country</th>\n",
       "      <td>Colombia</td>\n",
       "    </tr>\n",
       "  </tbody>\n",
       "</table>\n",
       "</div>"
      ],
      "text/plain": [
       "                         298\n",
       "name                Amazonas\n",
       "length              6,448.00\n",
       "country             Colombia"
      ]
     },
     "execution_count": 290,
     "metadata": {},
     "output_type": "execute_result"
    }
   ],
   "source": [
    "code_to_country_dict = {}\n",
    "for country in document.iterfind('country'):\n",
    "    code_to_country_dict[country.get('car_code')] = country.find('name').text\n",
    "\n",
    "rivers = []\n",
    "for river in document.iterfind('river'):\n",
    "    for country in river.get('country').split():\n",
    "        length = river.find('length')\n",
    "        if length is None:\n",
    "            length = np.nan\n",
    "        else:\n",
    "            length = float(length.text)\n",
    "        rivers.append([river.find('name').text, length, code_to_country_dict[country]])\n",
    "river_df = pd.DataFrame(rivers, columns=['name', 'length', 'country'])\n",
    "longest_river = river_df.loc[river_df['length'].idxmax()]\n",
    "longest_river.to_frame()"
   ]
  },
  {
   "cell_type": "code",
   "execution_count": 291,
   "metadata": {
    "collapsed": false
   },
   "outputs": [
    {
     "data": {
      "text/html": [
       "<div>\n",
       "<table border=\"1\" class=\"dataframe\">\n",
       "  <thead>\n",
       "    <tr style=\"text-align: right;\">\n",
       "      <th></th>\n",
       "      <th>68</th>\n",
       "    </tr>\n",
       "  </thead>\n",
       "  <tbody>\n",
       "    <tr>\n",
       "      <th>name</th>\n",
       "      <td>Caspian Sea</td>\n",
       "    </tr>\n",
       "    <tr>\n",
       "      <th>area</th>\n",
       "      <td>386,400.00</td>\n",
       "    </tr>\n",
       "    <tr>\n",
       "      <th>country</th>\n",
       "      <td>Russia</td>\n",
       "    </tr>\n",
       "  </tbody>\n",
       "</table>\n",
       "</div>"
      ],
      "text/plain": [
       "                          68\n",
       "name             Caspian Sea\n",
       "area              386,400.00\n",
       "country               Russia"
      ]
     },
     "execution_count": 291,
     "metadata": {},
     "output_type": "execute_result"
    }
   ],
   "source": [
    "code_to_country_dict = {}\n",
    "for country in document.iterfind('country'):\n",
    "    code_to_country_dict[country.get('car_code')] = country.find('name').text\n",
    "\n",
    "lakes = []\n",
    "for lake in document.iterfind('lake'):\n",
    "    for country in lake.get('country').split():\n",
    "        area = lake.find('area')\n",
    "        if area is None:\n",
    "            area = np.nan\n",
    "        else:\n",
    "            area = float(area.text)\n",
    "        lakes.append([lake.find('name').text, area, code_to_country_dict[country]])\n",
    "lake_df = pd.DataFrame(lakes, columns=['name', 'area', 'country'])\n",
    "\n",
    "longest_lake = lake_df.loc[lake_df['area'].idxmax()]\n",
    "longest_lake.to_frame()"
   ]
  },
  {
   "cell_type": "code",
   "execution_count": 292,
   "metadata": {
    "collapsed": false
   },
   "outputs": [
    {
     "data": {
      "text/html": [
       "<div>\n",
       "<table border=\"1\" class=\"dataframe\">\n",
       "  <thead>\n",
       "    <tr style=\"text-align: right;\">\n",
       "      <th></th>\n",
       "      <th>80</th>\n",
       "    </tr>\n",
       "  </thead>\n",
       "  <tbody>\n",
       "    <tr>\n",
       "      <th>name</th>\n",
       "      <td>El Alto Intl</td>\n",
       "    </tr>\n",
       "    <tr>\n",
       "      <th>elevation</th>\n",
       "      <td>4,063.00</td>\n",
       "    </tr>\n",
       "    <tr>\n",
       "      <th>country</th>\n",
       "      <td>Bolivia</td>\n",
       "    </tr>\n",
       "  </tbody>\n",
       "</table>\n",
       "</div>"
      ],
      "text/plain": [
       "                            80\n",
       "name              El Alto Intl\n",
       "elevation             4,063.00\n",
       "country                Bolivia"
      ]
     },
     "execution_count": 292,
     "metadata": {},
     "output_type": "execute_result"
    }
   ],
   "source": [
    "code_to_country_dict = {}\n",
    "for country in document.iterfind('country'):\n",
    "    code_to_country_dict[country.get('car_code')] = country.find('name').text\n",
    "    \n",
    "\n",
    "airports = []\n",
    "for airport in document.iterfind('airport'):\n",
    "    for country in airport.get('country').split():\n",
    "        elevation = airport.find('elevation')\n",
    "        if elevation is None or elevation.text is None:\n",
    "            continue\n",
    "        else:\n",
    "            elevation = float(elevation.text)\n",
    "        airports.append([airport.find('name').text, elevation, code_to_country_dict[country]])\n",
    "airport_df = pd.DataFrame(airports, columns=['name', 'elevation', 'country'])\n",
    "\n",
    "highelevation_airport = airport_df.loc[airport_df['elevation'].idxmax()]\n",
    "highelevation_airport.to_frame()\n"
   ]
  },
  {
   "cell_type": "code",
   "execution_count": null,
   "metadata": {
    "collapsed": true
   },
   "outputs": [],
   "source": []
  }
 ],
 "metadata": {
  "kernelspec": {
   "display_name": "Python 2",
   "language": "python",
   "name": "python2"
  },
  "language_info": {
   "codemirror_mode": {
    "name": "ipython",
    "version": 2
   },
   "file_extension": ".py",
   "mimetype": "text/x-python",
   "name": "python",
   "nbconvert_exporter": "python",
   "pygments_lexer": "ipython2",
   "version": "2.7.11"
  }
 },
 "nbformat": 4,
 "nbformat_minor": 0
}
